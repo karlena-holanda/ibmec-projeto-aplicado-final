{
  "nbformat": 4,
  "nbformat_minor": 0,
  "metadata": {
    "colab": {
      "provenance": [],
      "collapsed_sections": [
        "FMBJRGWcvNWr",
        "Akl92Uwavh1O"
      ]
    },
    "kernelspec": {
      "name": "python3",
      "display_name": "Python 3"
    },
    "language_info": {
      "name": "python"
    }
  },
  "cells": [
    {
      "cell_type": "markdown",
      "source": [
        "##Trabalho Final da Disciplina d Análise Preditiva [IBMEC - 03/2023]\n",
        "###MBA em BI & Data Science\n",
        "###Karlena Holanda\n"
      ],
      "metadata": {
        "id": "iZi-ryS8pMxp"
      }
    },
    {
      "cell_type": "markdown",
      "source": [
        "# **Instalação do pacote mip**"
      ],
      "metadata": {
        "id": "FMBJRGWcvNWr"
      }
    },
    {
      "cell_type": "code",
      "execution_count": 1,
      "metadata": {
        "colab": {
          "base_uri": "https://localhost:8080/"
        },
        "id": "1J5QWhp-pHcP",
        "outputId": "dc03ae12-e9cd-4f58-edd6-959301ad1ea9"
      },
      "outputs": [
        {
          "output_type": "stream",
          "name": "stdout",
          "text": [
            "Looking in indexes: https://pypi.org/simple, https://us-python.pkg.dev/colab-wheels/public/simple/\n",
            "Collecting mip\n",
            "  Downloading mip-1.15.0-py3-none-any.whl (15.3 MB)\n",
            "\u001b[2K     \u001b[90m━━━━━━━━━━━━━━━━━━━━━━━━━━━━━━━━━━━━━━━━\u001b[0m \u001b[32m15.3/15.3 MB\u001b[0m \u001b[31m47.1 MB/s\u001b[0m eta \u001b[36m0:00:00\u001b[0m\n",
            "\u001b[?25hRequirement already satisfied: cffi==1.15.* in /usr/local/lib/python3.9/dist-packages (from mip) (1.15.1)\n",
            "Requirement already satisfied: pycparser in /usr/local/lib/python3.9/dist-packages (from cffi==1.15.*->mip) (2.21)\n",
            "Installing collected packages: mip\n",
            "Successfully installed mip-1.15.0\n"
          ]
        }
      ],
      "source": [
        "!pip install mip"
      ]
    },
    {
      "cell_type": "markdown",
      "source": [
        "**Problema da Mochila**"
      ],
      "metadata": {
        "id": "SOeeFXxEvSS5"
      }
    },
    {
      "cell_type": "markdown",
      "source": [
        "Formulação do Modelo do problema da mochila (knapsack problem)\n",
        "\n",
        "\\begin{eqnarray}\n",
        "\\max \\ 10\\ x_{1} &+ 13\\ x_{2}+18\\ x_{3}+31\\ x_{4}+7\\ x_{5}+15\\ x_{6}  \\\\\n",
        "\\mbox{sujeito a:}&  \\\\\n",
        "11\\ x_{1} + 15\\ x_{2} &+20\\ x_{3}+35\\ x_{4}+10\\ x_{5}+33\\ x_{6} \\leq 53  \n",
        "\\end{eqnarray}\n",
        "\n",
        "\n",
        "Além disso $x$ é um vetor inteiro com valores não-negativos."
      ],
      "metadata": {
        "id": "6Up7Tag4vWkn"
      }
    },
    {
      "cell_type": "code",
      "source": [
        "from mip import Model, maximize, xsum, BINARY, OptimizationStatus"
      ],
      "metadata": {
        "id": "DWAwA6djvVhU"
      },
      "execution_count": 2,
      "outputs": []
    },
    {
      "cell_type": "code",
      "source": [
        "coef_funcao_objetivo = [10, 13, 18, 31, 7, 15]\n",
        "coef_restr = [11, 15, 20, 35, 10, 33]\n",
        "termo_independente = 53 "
      ],
      "metadata": {
        "id": "BVVV1-HjSPCj"
      },
      "execution_count": 3,
      "outputs": []
    },
    {
      "cell_type": "code",
      "source": [
        "I = range(len(coef_funcao_objetivo))\n",
        "m = Model(\"knapsack-karlena\")"
      ],
      "metadata": {
        "id": "qG0ZLXNTRt9d"
      },
      "execution_count": 4,
      "outputs": []
    },
    {
      "cell_type": "code",
      "source": [
        "x = [m.add_var(var_type=BINARY) for i in I]"
      ],
      "metadata": {
        "id": "sBmvnRW2Qsdq"
      },
      "execution_count": 5,
      "outputs": []
    },
    {
      "cell_type": "code",
      "source": [
        "m.objective = maximize(xsum(coef_funcao_objetivo[i] * x[i] for i in I))"
      ],
      "metadata": {
        "id": "lf3SGds5RyAd"
      },
      "execution_count": 6,
      "outputs": []
    },
    {
      "cell_type": "code",
      "source": [
        "funcao_objetivo=xsum(coef_funcao_objetivo[i] * x[i] for i in I)\n"
      ],
      "metadata": {
        "id": "py_u6hj-0Xps"
      },
      "execution_count": 7,
      "outputs": []
    },
    {
      "cell_type": "code",
      "source": [
        "print(funcao_objetivo)"
      ],
      "metadata": {
        "colab": {
          "base_uri": "https://localhost:8080/"
        },
        "id": "LUlyQWWq0-3z",
        "outputId": "3221fbf7-a50d-4eea-d63b-7690b88603bb"
      },
      "execution_count": 8,
      "outputs": [
        {
          "output_type": "stream",
          "name": "stdout",
          "text": [
            "+ 10var(0) + 13var(1) + 18var(2) + 31var(3) + 7var(4) + 15var(5) \n"
          ]
        }
      ]
    },
    {
      "cell_type": "code",
      "source": [
        "m += xsum(coef_restr[i] * x[i] for i in I) <= termo_independente\n",
        "print(f'O modelo tem {m.num_cols} variável(eis), {m.num_rows} restrição(ões) e {m.num_nz} zero(s)')"
      ],
      "metadata": {
        "colab": {
          "base_uri": "https://localhost:8080/"
        },
        "id": "M5MieaPqR3zs",
        "outputId": "0835ccbe-2361-470a-bdc4-3f38c32b1741"
      },
      "execution_count": 9,
      "outputs": [
        {
          "output_type": "stream",
          "name": "stdout",
          "text": [
            "O modelo tem 6 variável(eis), 1 restrição(ões) e 6 zero(s)\n"
          ]
        }
      ]
    },
    {
      "cell_type": "code",
      "source": [
        "status = m.optimize(max_seconds=2)"
      ],
      "metadata": {
        "id": "KZWsiOPVQsGb"
      },
      "execution_count": 10,
      "outputs": []
    },
    {
      "cell_type": "code",
      "source": [
        "status == OptimizationStatus.OPTIMAL"
      ],
      "metadata": {
        "colab": {
          "base_uri": "https://localhost:8080/"
        },
        "id": "3UD0BjDnT2o7",
        "outputId": "5807626e-84f5-43f6-951c-c0befc1a2c27"
      },
      "execution_count": 11,
      "outputs": [
        {
          "output_type": "execute_result",
          "data": {
            "text/plain": [
              "True"
            ]
          },
          "metadata": {},
          "execution_count": 11
        }
      ]
    },
    {
      "cell_type": "code",
      "source": [
        "itens_selecionados = [\"x\"+str(i+1) for i in I if x[i].x >= 0.99]\n",
        "print(\"Itens selecionados: {}\".format(itens_selecionados))"
      ],
      "metadata": {
        "colab": {
          "base_uri": "https://localhost:8080/"
        },
        "id": "07mA9CGeQ2_d",
        "outputId": "8df7d7f6-263a-4c3c-a64c-126123107983"
      },
      "execution_count": 12,
      "outputs": [
        {
          "output_type": "stream",
          "name": "stdout",
          "text": [
            "Itens selecionados: ['x2', 'x4']\n"
          ]
        }
      ]
    },
    {
      "cell_type": "markdown",
      "source": [
        "# **Instalação do pacote ortools**"
      ],
      "metadata": {
        "id": "Akl92Uwavh1O"
      }
    },
    {
      "cell_type": "code",
      "source": [
        "!pip install ortools"
      ],
      "metadata": {
        "colab": {
          "base_uri": "https://localhost:8080/"
        },
        "id": "FIK7HJdAvkHe",
        "outputId": "9072e054-1a53-4ac6-a457-575de3ae6579"
      },
      "execution_count": 13,
      "outputs": [
        {
          "output_type": "stream",
          "name": "stdout",
          "text": [
            "Looking in indexes: https://pypi.org/simple, https://us-python.pkg.dev/colab-wheels/public/simple/\n",
            "Collecting ortools\n",
            "  Downloading ortools-9.6.2534-cp39-cp39-manylinux_2_17_x86_64.manylinux2014_x86_64.whl (16.4 MB)\n",
            "\u001b[2K     \u001b[90m━━━━━━━━━━━━━━━━━━━━━━━━━━━━━━━━━━━━━━━━\u001b[0m \u001b[32m16.4/16.4 MB\u001b[0m \u001b[31m68.9 MB/s\u001b[0m eta \u001b[36m0:00:00\u001b[0m\n",
            "\u001b[?25hRequirement already satisfied: numpy>=1.13.3 in /usr/local/lib/python3.9/dist-packages (from ortools) (1.22.4)\n",
            "Collecting protobuf>=4.21.12\n",
            "  Downloading protobuf-4.22.1-cp37-abi3-manylinux2014_x86_64.whl (302 kB)\n",
            "\u001b[2K     \u001b[90m━━━━━━━━━━━━━━━━━━━━━━━━━━━━━━━━━━━━━━\u001b[0m \u001b[32m302.4/302.4 KB\u001b[0m \u001b[31m26.3 MB/s\u001b[0m eta \u001b[36m0:00:00\u001b[0m\n",
            "\u001b[?25hRequirement already satisfied: scipy>=1.10.0 in /usr/local/lib/python3.9/dist-packages (from ortools) (1.10.1)\n",
            "Requirement already satisfied: absl-py>=0.13 in /usr/local/lib/python3.9/dist-packages (from ortools) (1.4.0)\n",
            "Installing collected packages: protobuf, ortools\n",
            "  Attempting uninstall: protobuf\n",
            "    Found existing installation: protobuf 3.19.6\n",
            "    Uninstalling protobuf-3.19.6:\n",
            "      Successfully uninstalled protobuf-3.19.6\n",
            "\u001b[31mERROR: pip's dependency resolver does not currently take into account all the packages that are installed. This behaviour is the source of the following dependency conflicts.\n",
            "tensorflow 2.11.0 requires protobuf<3.20,>=3.9.2, but you have protobuf 4.22.1 which is incompatible.\n",
            "tensorflow-metadata 1.12.0 requires protobuf<4,>=3.13, but you have protobuf 4.22.1 which is incompatible.\n",
            "tensorboard 2.11.2 requires protobuf<4,>=3.9.2, but you have protobuf 4.22.1 which is incompatible.\u001b[0m\u001b[31m\n",
            "\u001b[0mSuccessfully installed ortools-9.6.2534 protobuf-4.22.1\n"
          ]
        }
      ]
    },
    {
      "cell_type": "markdown",
      "source": [
        "**Exemplo de Programação Inteira**"
      ],
      "metadata": {
        "id": "g0EmBsmIvmh9"
      }
    },
    {
      "cell_type": "code",
      "source": [
        "from ortools.linear_solver import pywraplp"
      ],
      "metadata": {
        "id": "k3X57eNAvqc_"
      },
      "execution_count": 14,
      "outputs": []
    },
    {
      "cell_type": "code",
      "source": [
        "solver = pywraplp.Solver.CreateSolver('SCIP')"
      ],
      "metadata": {
        "id": "9wGuK25kU1e5"
      },
      "execution_count": 15,
      "outputs": []
    },
    {
      "cell_type": "code",
      "source": [
        "infinity = solver.infinity()\n",
        "# x e y são variáveis inteiras não-negativas.\n",
        "x = solver.IntVar(0.0, infinity, 'x')\n",
        "y = solver.IntVar(0.0, infinity, 'y')\n",
        "\n",
        "print('Número de variáveis =', solver.NumVariables())"
      ],
      "metadata": {
        "colab": {
          "base_uri": "https://localhost:8080/"
        },
        "id": "TwYvQLaoUmSp",
        "outputId": "63632624-a114-4774-bf4c-c9330677f865"
      },
      "execution_count": 16,
      "outputs": [
        {
          "output_type": "stream",
          "name": "stdout",
          "text": [
            "Número de variáveis = 2\n"
          ]
        }
      ]
    },
    {
      "cell_type": "code",
      "source": [
        "# x + 7 * y <= 17.5.\n",
        "solver.Add(x + 7 * y <= 17.5)\n",
        "\n",
        "# x <= 3.5.\n",
        "solver.Add(x <= 3.5)\n",
        "\n",
        "print('Número de restrições =', solver.NumConstraints())"
      ],
      "metadata": {
        "colab": {
          "base_uri": "https://localhost:8080/"
        },
        "id": "wFGgiZJSU-OY",
        "outputId": "fdacec65-f1ca-43ba-88d4-aa0ada02d8b5"
      },
      "execution_count": 17,
      "outputs": [
        {
          "output_type": "stream",
          "name": "stdout",
          "text": [
            "Número de restrições = 2\n"
          ]
        }
      ]
    },
    {
      "cell_type": "code",
      "source": [
        "# Maximize x + 10 * y.\n",
        "solver.Maximize(x + 10 * y)"
      ],
      "metadata": {
        "id": "4TUBdVz8VBBA"
      },
      "execution_count": 18,
      "outputs": []
    },
    {
      "cell_type": "code",
      "source": [
        "status = solver.Solve()"
      ],
      "metadata": {
        "id": "ysL6LkMYVCj4"
      },
      "execution_count": 19,
      "outputs": []
    },
    {
      "cell_type": "code",
      "source": [
        "if status == pywraplp.Solver.OPTIMAL:\n",
        "  print('Solução:')\n",
        "  print('Valor objetivo =', solver.Objective().Value())\n",
        "  print('x =', x.solution_value())\n",
        "  print('y =', y.solution_value())\n",
        "else:\n",
        "  print('O problema não tem solução ótima.')\n",
        "\n"
      ],
      "metadata": {
        "id": "t2dp9nO2Upnq"
      },
      "execution_count": null,
      "outputs": []
    },
    {
      "cell_type": "code",
      "source": [
        "print('\\nInformações sobre o processamento:')\n",
        "print(f'Tempo de processamento em milisegundos foi de {solver.wall_time()}')\n",
        "print(f'Quantidade de Iterações para resolver o problema foi de {solver.iterations()}')\n",
        "print(f'Quantidade nós de branch-and-bound para resolver o problema foi de {solver.nodes()}')"
      ],
      "metadata": {
        "colab": {
          "base_uri": "https://localhost:8080/"
        },
        "id": "GXgEX5liUsDx",
        "outputId": "43135727-61a4-43c5-a0c0-01b637900030"
      },
      "execution_count": 21,
      "outputs": [
        {
          "output_type": "stream",
          "name": "stdout",
          "text": [
            "\n",
            "Informações sobre o processamento:\n",
            "Tempo de processamento em milisegundos foi de 18615\n",
            "Quantidade de Iterações para resolver o problema foi de 0\n",
            "Quantidade nós de branch-and-bound para resolver o problema foi de 1\n"
          ]
        }
      ]
    }
  ]
}